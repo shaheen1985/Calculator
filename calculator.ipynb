{
 "cells": [
  {
   "cell_type": "code",
   "execution_count": null,
   "metadata": {},
   "outputs": [],
   "source": [
    "x = input(\"Enter the value X \")\n",
    "y = input(\"Enter the value Y \")\n",
    "\n",
    "print (\"Add, Sub, Mul, Div, Mod\")\n",
    "o = input (\"Enter the operation to be performed from above list \")\n",
    "if o == \"Add\":\n",
    "    c = int(x) + int(y)\n",
    "elif o == \"Sub\":\n",
    "    c = int(x) - int(y)\n",
    "elif o == \"Mul\":\n",
    "    c = int(x) * int(y)\n",
    "elif o == \"Div\":\n",
    "    c = int(x) / int(y)\n",
    "\n",
    "print(c)"
   ]
  },
  {
   "cell_type": "code",
   "execution_count": null,
   "metadata": {},
   "outputs": [],
   "source": []
  },
  {
   "cell_type": "code",
   "execution_count": null,
   "metadata": {},
   "outputs": [],
   "source": []
  }
 ],
 "metadata": {
  "kernelspec": {
   "display_name": "Python 3",
   "language": "python",
   "name": "python3"
  },
  "language_info": {
   "codemirror_mode": {
    "name": "ipython",
    "version": 3
   },
   "file_extension": ".py",
   "mimetype": "text/x-python",
   "name": "python",
   "nbconvert_exporter": "python",
   "pygments_lexer": "ipython3",
   "version": "3.7.6"
  }
 },
 "nbformat": 4,
 "nbformat_minor": 4
}
